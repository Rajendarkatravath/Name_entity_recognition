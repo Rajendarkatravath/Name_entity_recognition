{
  "nbformat": 4,
  "nbformat_minor": 0,
  "metadata": {
    "colab": {
      "provenance": [],
      "authorship_tag": "ABX9TyNc0/7OTQNB7tcZvWU3Qmkj",
      "include_colab_link": true
    },
    "kernelspec": {
      "name": "python3",
      "display_name": "Python 3"
    },
    "language_info": {
      "name": "python"
    }
  },
  "cells": [
    {
      "cell_type": "markdown",
      "metadata": {
        "id": "view-in-github",
        "colab_type": "text"
      },
      "source": [
        "<a href=\"https://colab.research.google.com/github/Rajendarkatravath/Name_entity_recognition/blob/main/name_entity_recognition.ipynb\" target=\"_parent\"><img src=\"https://colab.research.google.com/assets/colab-badge.svg\" alt=\"Open In Colab\"/></a>"
      ]
    },
    {
      "cell_type": "code",
      "execution_count": null,
      "metadata": {
        "colab": {
          "base_uri": "https://localhost:8080/"
        },
        "id": "WtLnxCVK9OZN",
        "outputId": "cd564b77-50fb-4f6a-872b-149eb9b4f60c"
      },
      "outputs": [
        {
          "output_type": "stream",
          "name": "stdout",
          "text": [
            "Collecting nltk==3.2.4\n",
            "  Downloading nltk-3.2.4.tar.gz (1.2 MB)\n",
            "\u001b[2K     \u001b[90m━━━━━━━━━━━━━━━━━━━━━━━━━━━━━━━━━━━━━━━━\u001b[0m \u001b[32m1.2/1.2 MB\u001b[0m \u001b[31m6.2 MB/s\u001b[0m eta \u001b[36m0:00:00\u001b[0m\n",
            "\u001b[?25h  Preparing metadata (setup.py) ... \u001b[?25l\u001b[?25hdone\n",
            "Requirement already satisfied: six in /usr/local/lib/python3.10/dist-packages (from nltk==3.2.4) (1.16.0)\n",
            "Building wheels for collected packages: nltk\n",
            "  Building wheel for nltk (setup.py) ... \u001b[?25l\u001b[?25hdone\n",
            "  Created wheel for nltk: filename=nltk-3.2.4-py3-none-any.whl size=1367709 sha256=cff5540e62139dc52bad294588e8fcd17ffd1a7c90647b7c74eaa0ac00a95ae0\n",
            "  Stored in directory: /root/.cache/pip/wheels/0e/8c/42/bcd0934b61ecf4cef964ccc9881888cca0841ec72266e99de1\n",
            "Successfully built nltk\n",
            "Installing collected packages: nltk\n",
            "  Attempting uninstall: nltk\n",
            "    Found existing installation: nltk 3.8.1\n",
            "    Uninstalling nltk-3.8.1:\n",
            "      Successfully uninstalled nltk-3.8.1\n",
            "Successfully installed nltk-3.2.4\n",
            "--2024-04-12 06:35:39--  http://nlp.stanford.edu/software/stanford-ner-2015-04-20.zip\n",
            "Resolving nlp.stanford.edu (nlp.stanford.edu)... 171.64.67.140\n",
            "Connecting to nlp.stanford.edu (nlp.stanford.edu)|171.64.67.140|:80... connected.\n",
            "HTTP request sent, awaiting response... 302 Found\n",
            "Location: https://nlp.stanford.edu/software/stanford-ner-2015-04-20.zip [following]\n",
            "--2024-04-12 06:35:40--  https://nlp.stanford.edu/software/stanford-ner-2015-04-20.zip\n",
            "Connecting to nlp.stanford.edu (nlp.stanford.edu)|171.64.67.140|:443... connected.\n",
            "HTTP request sent, awaiting response... 302 FOUND\n",
            "Location: https://downloads.cs.stanford.edu/nlp/software/stanford-ner-2015-04-20.zip [following]\n",
            "--2024-04-12 06:35:40--  https://downloads.cs.stanford.edu/nlp/software/stanford-ner-2015-04-20.zip\n",
            "Resolving downloads.cs.stanford.edu (downloads.cs.stanford.edu)... 171.64.64.22\n",
            "Connecting to downloads.cs.stanford.edu (downloads.cs.stanford.edu)|171.64.64.22|:443... connected.\n",
            "HTTP request sent, awaiting response... 200 OK\n",
            "Length: 176961718 (169M) [application/zip]\n",
            "Saving to: ‘stanford-ner-2015-04-20.zip’\n",
            "\n",
            "stanford-ner-2015-0 100%[===================>] 168.76M  5.07MB/s    in 29s     \n",
            "\n",
            "2024-04-12 06:36:09 (5.78 MB/s) - ‘stanford-ner-2015-04-20.zip’ saved [176961718/176961718]\n",
            "\n",
            "Archive:  stanford-ner-2015-04-20.zip\n",
            "   creating: stanford-ner-2015-04-20/\n",
            "  inflating: stanford-ner-2015-04-20/README.txt  \n",
            "  inflating: stanford-ner-2015-04-20/ner-gui.bat  \n",
            "  inflating: stanford-ner-2015-04-20/build.xml  \n",
            "  inflating: stanford-ner-2015-04-20/stanford-ner-3.5.2.jar  \n",
            "  inflating: stanford-ner-2015-04-20/stanford-ner.jar  \n",
            "  inflating: stanford-ner-2015-04-20/sample-conll-file.txt  \n",
            "  inflating: stanford-ner-2015-04-20/sample.ner.txt  \n",
            "   creating: stanford-ner-2015-04-20/lib/\n",
            "  inflating: stanford-ner-2015-04-20/lib/jollyday-0.4.7.jar  \n",
            "  inflating: stanford-ner-2015-04-20/lib/joda-time.jar  \n",
            "  inflating: stanford-ner-2015-04-20/lib/stanford-ner-resources.jar  \n",
            "  inflating: stanford-ner-2015-04-20/ner-gui.command  \n",
            "  inflating: stanford-ner-2015-04-20/ner.sh  \n",
            "  inflating: stanford-ner-2015-04-20/NERDemo.java  \n",
            "  inflating: stanford-ner-2015-04-20/ner.bat  \n",
            "  inflating: stanford-ner-2015-04-20/stanford-ner-3.5.2-javadoc.jar  \n",
            "   creating: stanford-ner-2015-04-20/classifiers/\n",
            "  inflating: stanford-ner-2015-04-20/classifiers/english.conll.4class.distsim.prop  \n",
            "  inflating: stanford-ner-2015-04-20/classifiers/example.serialized.ncc.ncc.ser.gz  \n",
            "  inflating: stanford-ner-2015-04-20/classifiers/english.muc.7class.distsim.crf.ser.gz  \n",
            "  inflating: stanford-ner-2015-04-20/classifiers/english.conll.4class.distsim.crf.ser.gz  \n",
            "  inflating: stanford-ner-2015-04-20/classifiers/english.muc.7class.distsim.prop  \n",
            "  inflating: stanford-ner-2015-04-20/classifiers/english.all.3class.distsim.prop  \n",
            "  inflating: stanford-ner-2015-04-20/classifiers/example.serialized.ncc.prop  \n",
            "  inflating: stanford-ner-2015-04-20/classifiers/english.all.3class.distsim.crf.ser.gz  \n",
            "  inflating: stanford-ner-2015-04-20/stanford-ner-3.5.2-sources.jar  \n",
            "  inflating: stanford-ner-2015-04-20/sample.txt  \n",
            "  inflating: stanford-ner-2015-04-20/sample-w-time.txt  \n",
            "  inflating: stanford-ner-2015-04-20/ner-gui.sh  \n",
            "  inflating: stanford-ner-2015-04-20/LICENSE.txt  \n"
          ]
        }
      ],
      "source": [
        "!pip3 install nltk==3.2.4\n",
        "!wget http://nlp.stanford.edu/software/stanford-ner-2015-04-20.zip\n",
        "!unzip stanford-ner-2015-04-20.zip"
      ]
    },
    {
      "cell_type": "code",
      "source": [
        "from nltk.tag.stanford import StanfordNERTagger\n",
        "jar = \"stanford-ner-2015-04-20/stanford-ner-3.5.2.jar\"\n",
        "model = \"stanford-ner-2015-04-20/classifiers/\"\n",
        "st_4class = StanfordNERTagger(model + \"english.conll.4class.distsim.crf.ser.gz\", jar, encoding='utf8')"
      ],
      "metadata": {
        "id": "Zt25g4ypBE1F"
      },
      "execution_count": null,
      "outputs": []
    },
    {
      "cell_type": "code",
      "source": [
        "example_document = '''Deepak Jasani, Head of retail research, HDFC Securities, said: “Investors will look to the European Central Bank later Thursday for reassurance that surging prices are just transitory, and not about to spiral out of control. In addition to the ECB policy meeting, investors are awaiting a report later Thursday on US economic growth, which is likely to show a cooling recovery, as well as weekly jobs data.”.'''"
      ],
      "metadata": {
        "id": "G2yIZacdBtPN"
      },
      "execution_count": null,
      "outputs": []
    },
    {
      "cell_type": "code",
      "source": [
        "st_4class.tag(example_document.split())"
      ],
      "metadata": {
        "colab": {
          "base_uri": "https://localhost:8080/"
        },
        "id": "ufQS5e6HBw6a",
        "outputId": "53dc0d3d-00c6-4e73-e758-7ebead0a90ad"
      },
      "execution_count": null,
      "outputs": [
        {
          "output_type": "execute_result",
          "data": {
            "text/plain": [
              "[('Deepak', 'PERSON'),\n",
              " ('Jasani,', 'PERSON'),\n",
              " ('Head', 'PERSON'),\n",
              " ('of', 'O'),\n",
              " ('retail', 'O'),\n",
              " ('research,', 'O'),\n",
              " ('HDFC', 'O'),\n",
              " ('Securities,', 'O'),\n",
              " ('said:', 'O'),\n",
              " ('“Investors', 'O'),\n",
              " ('will', 'O'),\n",
              " ('look', 'O'),\n",
              " ('to', 'O'),\n",
              " ('the', 'O'),\n",
              " ('European', 'ORGANIZATION'),\n",
              " ('Central', 'ORGANIZATION'),\n",
              " ('Bank', 'ORGANIZATION'),\n",
              " ('later', 'O'),\n",
              " ('Thursday', 'O'),\n",
              " ('for', 'O'),\n",
              " ('reassurance', 'O'),\n",
              " ('that', 'O'),\n",
              " ('surging', 'O'),\n",
              " ('prices', 'O'),\n",
              " ('are', 'O'),\n",
              " ('just', 'O'),\n",
              " ('transitory,', 'O'),\n",
              " ('and', 'O'),\n",
              " ('not', 'O'),\n",
              " ('about', 'O'),\n",
              " ('to', 'O'),\n",
              " ('spiral', 'O'),\n",
              " ('out', 'O'),\n",
              " ('of', 'O'),\n",
              " ('control.', 'O'),\n",
              " ('In', 'O'),\n",
              " ('addition', 'O'),\n",
              " ('to', 'O'),\n",
              " ('the', 'O'),\n",
              " ('ECB', 'ORGANIZATION'),\n",
              " ('policy', 'O'),\n",
              " ('meeting,', 'O'),\n",
              " ('investors', 'O'),\n",
              " ('are', 'O'),\n",
              " ('awaiting', 'O'),\n",
              " ('a', 'O'),\n",
              " ('report', 'O'),\n",
              " ('later', 'O'),\n",
              " ('Thursday', 'O'),\n",
              " ('on', 'O'),\n",
              " ('US', 'LOCATION'),\n",
              " ('economic', 'O'),\n",
              " ('growth,', 'O'),\n",
              " ('which', 'O'),\n",
              " ('is', 'O'),\n",
              " ('likely', 'O'),\n",
              " ('to', 'O'),\n",
              " ('show', 'O'),\n",
              " ('a', 'O'),\n",
              " ('cooling', 'O'),\n",
              " ('recovery,', 'O'),\n",
              " ('as', 'O'),\n",
              " ('well', 'O'),\n",
              " ('as', 'O'),\n",
              " ('weekly', 'O'),\n",
              " ('jobs', 'O'),\n",
              " ('data.”.', 'O')]"
            ]
          },
          "metadata": {},
          "execution_count": 4
        }
      ]
    },
    {
      "cell_type": "code",
      "source": [
        "import spacy\n",
        "import spacy.cli\n",
        "spacy.cli.download(\"en_core_web_sm\")"
      ],
      "metadata": {
        "colab": {
          "base_uri": "https://localhost:8080/"
        },
        "id": "g96CuXOlB1UB",
        "outputId": "39f89f30-f1ed-43d5-97e1-d7b2699f1b16"
      },
      "execution_count": null,
      "outputs": [
        {
          "output_type": "stream",
          "name": "stdout",
          "text": [
            "\u001b[38;5;2m✔ Download and installation successful\u001b[0m\n",
            "You can now load the package via spacy.load('en_core_web_sm')\n",
            "\u001b[38;5;3m⚠ Restart to reload dependencies\u001b[0m\n",
            "If you are in a Jupyter or Colab notebook, you may need to restart Python in\n",
            "order to load all the package's dependencies. You can do this by selecting the\n",
            "'Restart kernel' or 'Restart runtime' option.\n"
          ]
        }
      ]
    },
    {
      "cell_type": "code",
      "source": [
        "\n",
        "sp_sm = spacy.load('en_core_web_sm')"
      ],
      "metadata": {
        "id": "kJf7eK2WB6Fa"
      },
      "execution_count": null,
      "outputs": []
    },
    {
      "cell_type": "code",
      "source": [
        "def spacy_large_ner(document):\n",
        "  return {(ent.text.strip(), ent.label_) for ent in sp_sm(document).ents}\n",
        "spacy_large_ner(example_document)"
      ],
      "metadata": {
        "colab": {
          "base_uri": "https://localhost:8080/"
        },
        "id": "NR7jRQMECHqS",
        "outputId": "2bc513b2-1ccf-476e-8142-f55f40e1754f"
      },
      "execution_count": null,
      "outputs": [
        {
          "output_type": "execute_result",
          "data": {
            "text/plain": [
              "{('Deepak Jasani', 'PERSON'),\n",
              " ('ECB', 'ORG'),\n",
              " ('HDFC Securities', 'ORG'),\n",
              " ('US', 'GPE'),\n",
              " ('later Thursday', 'DATE'),\n",
              " ('the European Central Bank', 'ORG'),\n",
              " ('weekly', 'DATE')}"
            ]
          },
          "metadata": {},
          "execution_count": 9
        }
      ]
    },
    {
      "cell_type": "code",
      "source": [],
      "metadata": {
        "id": "RjE7Kf9iCOIy"
      },
      "execution_count": null,
      "outputs": []
    }
  ]
}